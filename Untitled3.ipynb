{
  "nbformat": 4,
  "nbformat_minor": 0,
  "metadata": {
    "colab": {
      "provenance": [],
      "authorship_tag": "ABX9TyMNqNL+i9K6Fkn0QfQCbsXe",
      "include_colab_link": true
    },
    "kernelspec": {
      "name": "python3",
      "display_name": "Python 3"
    },
    "language_info": {
      "name": "python"
    }
  },
  "cells": [
    {
      "cell_type": "markdown",
      "metadata": {
        "id": "view-in-github",
        "colab_type": "text"
      },
      "source": [
        "<a href=\"https://colab.research.google.com/github/KasaEswari/PRODIGY-INFOTECH/blob/main/Untitled3.ipynb\" target=\"_parent\"><img src=\"https://colab.research.google.com/assets/colab-badge.svg\" alt=\"Open In Colab\"/></a>"
      ]
    },
    {
      "cell_type": "code",
      "execution_count": null,
      "metadata": {
        "id": "kr39pG_7bjKm"
      },
      "outputs": [],
      "source": [
        "def encypt_func(txt, s):\n",
        "    result = \"\"\n",
        "\n",
        "\n",
        "# transverse the plain txt\n",
        "    for i in range(len(txt)):\n",
        "        char = txt[i]\n",
        "        # encypt_func uppercase characters in plain txt\n",
        "\n",
        "        if (char.isupper()):\n",
        "            result += chr((ord(char) + s - 64) % 26 + 65)\n",
        "        # encypt_func lowercase characters in plain txt\n",
        "        else:\n",
        "            result += chr((ord(char) + s - 96) % 26 + 97)\n",
        "    return result\n",
        "# check the above function\n",
        "txt = input(\"Enter the text:\")\n",
        "s = int(input(\"Enter the shift key:\"))\n",
        "\n",
        "print(\"Plain txt : \" + txt)\n",
        "print(\"Shift pattern : \" + str(s))\n",
        "print(\"Cipher: \" + encypt_func(txt, s))"
      ]
    }
  ]
}